{
 "cells": [
  {
   "cell_type": "code",
   "execution_count": 1,
   "metadata": {},
   "outputs": [
    {
     "name": "stderr",
     "output_type": "stream",
     "text": [
      "Using TensorFlow backend.\n"
     ]
    }
   ],
   "source": [
    "#3\n",
    "from keras.datasets import mnist #keras를 이용해 MNIST data download \n",
    "from sklearn import svm #sklearn svm 내장함수\n",
    "import matplotlib.pyplot as plt\n",
    "import numpy as np\n",
    "\n",
    "(X_train, y_train), (X_test, y_test) = mnist.load_data() #데이터 download 하고 각각 항목에 저장.\n",
    "#X_train, X_test에는 각각 60000 by 28 * 28 , 10000 by 28 * 28\n",
    "#y_train, y_test에는 각각 60000, 100000 개의 label 저장.\n",
    "\n",
    "#위에서 다운받은 MNIST data는 60000 by 28 by 28 이다. 처리를 위해 60000 by 784 by 1로 만들기 위해 다음을 이용한다.\n",
    "X_train = X_train.reshape((X_train.shape[0], -1)) #-1은 차원을 줄이는 역할.\n",
    "X_test = X_test.reshape((X_test.shape[0], -1))"
   ]
  },
  {
   "cell_type": "code",
   "execution_count": null,
   "metadata": {},
   "outputs": [],
   "source": [
    "#svm training.\n",
    "model1 = svm.SVC(gamma=0.001, C=100)\n",
    "model1.fit(X_train, y_train)"
   ]
  },
  {
   "cell_type": "code",
   "execution_count": null,
   "metadata": {},
   "outputs": [],
   "source": [
    "#3\n",
    "from keras.datasets import mnist #keras를 이용해 MNIST data download \n",
    "from sklearn import svm #sklearn svm 내장함수\n",
    "import matplotlib.pyplot as plt\n",
    "import numpy as np\n",
    "\n",
    "(X_train, y_train), (X_test, y_test) = mnist.load_data() #데이터 download 하고 각각 항목에 저장.\n",
    "#X_train, X_test에는 각각 60000 by 28 * 28 , 10000 by 28 * 28\n",
    "#y_train, y_test에는 각각 60000, 100000 개의 label 저장.\n",
    "\n",
    "#위에서 다운받은 MNIST data는 60000 by 28 by 28 이다. 처리를 위해 60000 by 784 by 1로 만들기 위해 다음을 이용한다.\n",
    "X_train = X_train.reshape((X_train.shape[0], -1)) #-1은 차원을 줄이는 역할.\n",
    "X_test = X_test.reshape((X_test.shape[0], -1))"
   ]
  },
  {
   "cell_type": "code",
   "execution_count": null,
   "metadata": {},
   "outputs": [],
   "source": [
    "#svm training.\n",
    "model1 = svm.SVC(gamma=0.001, C=100)\n",
    "model1.fit(X_train, y_train)"
   ]
  },
  {
   "cell_type": "code",
   "execution_count": null,
   "metadata": {},
   "outputs": [],
   "source": [
    "model1.score(X_train, y_train)\n",
    "predicted = model1.predict(test_data)"
   ]
  },
  {
   "cell_type": "code",
   "execution_count": null,
   "metadata": {},
   "outputs": [],
   "source": [
    "#3\n",
    "#test는 10000개, train은 60000개\n",
    "from matplotlib import pyplot as plt\n",
    "from matplotlib.image import imread\n",
    "import time\n",
    "from PIL import Image\n",
    "import numpy as np\n",
    "\n",
    "#data input. \n",
    "train_data=np.ndarray(shape=(60000, 784))\n",
    "train_label=np.zeros(60000)\n",
    "\n",
    "num=0\n",
    "input_file = open('MNIST/train_label.txt', \"r\")\n",
    "for line in input_file:\n",
    "    line = line.strip()\n",
    "    train_label[num]=line\n",
    "    num=num+1\n",
    "input_file.close()  #label 저장하는 vector train_label\n",
    "\n",
    "for i in range(60000):\n",
    "    img=Image.open('MNIST/train_data/%d.png'%(i+1))\n",
    "    train_data[i,:]=np.array(list(img.getdata(band=0)), int) #data 저장하는 60000 by 784 matrix train_data\n",
    "    \n",
    "    \n",
    "test_data=np.ndarray(shape=(10000, 784))\n",
    "test_label=np.zeros(10000)\n",
    "\n",
    "num=0\n",
    "input_file = open('MNIST/test_label.txt', \"r\")\n",
    "for line in input_file:\n",
    "    line = line.strip()\n",
    "    test_label[num]=line\n",
    "    num=num+1\n",
    "input_file.close()  #label 저장하는 vector test_label\n",
    "\n",
    "for i in range(10000):\n",
    "    img=Image.open('MNIST/test_data/%d.png'%(i+1))\n",
    "    test_data[i,:]=np.array(list(img.getdata(band=0)), int) #data 저장하는 60000 by 784 matrix test_data"
   ]
  },
  {
   "cell_type": "code",
   "execution_count": null,
   "metadata": {},
   "outputs": [],
   "source": [
    "#test 단계\n",
    "predicted = model1.predict(test_data)\n",
    "ox=predicted-test_label\n",
    "if(sum(ox)==0):\n",
    "    print(\"Succesful!\")"
   ]
  },
  {
   "cell_type": "code",
   "execution_count": null,
   "metadata": {},
   "outputs": [],
   "source": [
    "import matplotlib.pyplot as plt\n",
    "from sklearn import datasets\n",
    "from sklearn import svm\n",
    "\n",
    "digits = datasets.load_digits()\n",
    "print(digits.data) #1797 by 64 행렬. 1797개의 8 by 8 숫자 이미지가 64 by 1 벡터로 일렬로 늘어놓아 저장.\n",
    "print(digits.target) #1797 벡터\n",
    "model1 = svm.SVC(gamma=0.001, C=100)\n",
    "\n",
    "X,y = digits.data[:-10], digits.target[:-10] #뒤에 10개만 버림.\n",
    "print(len(X)) #1797-10=1787\n",
    "print(y) \n",
    "print(len(y)) #1787\n",
    "print(len(digits.target[:])) #1797\n",
    "\n",
    "model1.fit(X,y)\n",
    "model1.score(X, y)\n",
    "\n",
    "predicted= model1.predict(digits.data[1788:1797]) #아까 버린 10개의 데이터를 다시 줏어온다.\n",
    "#이 부분은 테스트데이터를 model1.predict에 넣어서 테스트하는 부분으로, predicted에는 각 이미지에 대한 결과물 label이 각각 튀어나온다.\n",
    "print(predicted)\n",
    "\n",
    "plt.imshow(digits.images[-2], cmap=plt.cm.gray_r, interpolation='nearest')\n",
    "plt.show()\n",
    "print(digits.target[-2])"
   ]
  },
  {
   "cell_type": "code",
   "execution_count": null,
   "metadata": {},
   "outputs": [],
   "source": [
    "from keras.datasets import mnist #keras를 이용해 MNIST data download \n",
    "import matplotlib.pyplot as plt\n",
    "import numpy as np\n",
    "\n",
    "(X_train, y_train), (X_test, y_test) = mnist.load_data()"
   ]
  },
  {
   "cell_type": "code",
   "execution_count": null,
   "metadata": {},
   "outputs": [],
   "source": [
    "#위에서 다운받은 MNIST data는 60000 by 28 by 28 이다. 처리를 위해 60000 by 784 by 1로 만들기 위해 다음을 이용한다.\n",
    "X_train = X_train.reshape((X_train.shape[0], -1)) #-1은 차원을 줄이는 역할.\n",
    "X_test = X_test.reshape((X_test.shape[0], -1))\n",
    "\n",
    "# 타겟 변수를 one-hot encoding 한다. 이는 해당 index에 부여된 숫자를 1로 바꾸는 자연어 처리 기법 중 하나다.\n",
    "from keras.utils.np_utils import to_categorical\n",
    "y_train = to_categorical(y_train)\n",
    "y_test = to_categorical(y_test)\n",
    "\n",
    "#print(X_train.shape, X_test.shape, y_train.shape, y_test.shape)"
   ]
  },
  {
   "cell_type": "code",
   "execution_count": null,
   "metadata": {},
   "outputs": [],
   "source": []
  },
  {
   "cell_type": "code",
   "execution_count": null,
   "metadata": {},
   "outputs": [],
   "source": []
  },
  {
   "cell_type": "code",
   "execution_count": null,
   "metadata": {},
   "outputs": [],
   "source": []
  },
  {
   "cell_type": "code",
   "execution_count": null,
   "metadata": {},
   "outputs": [],
   "source": []
  }
 ],
 "metadata": {
  "kernelspec": {
   "display_name": "Python 3",
   "language": "python",
   "name": "python3"
  },
  "language_info": {
   "codemirror_mode": {
    "name": "ipython",
    "version": 3
   },
   "file_extension": ".py",
   "mimetype": "text/x-python",
   "name": "python",
   "nbconvert_exporter": "python",
   "pygments_lexer": "ipython3",
   "version": "3.7.5"
  }
 },
 "nbformat": 4,
 "nbformat_minor": 2
}
