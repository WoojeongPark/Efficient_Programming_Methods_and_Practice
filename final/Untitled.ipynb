{
 "cells": [
  {
   "cell_type": "code",
   "execution_count": 1,
   "metadata": {},
   "outputs": [
    {
     "name": "stdout",
     "output_type": "stream",
     "text": [
      "[[ 0.  0.  5. ...  0.  0.  0.]\n",
      " [ 0.  0.  0. ... 10.  0.  0.]\n",
      " [ 0.  0.  0. ... 16.  9.  0.]\n",
      " ...\n",
      " [ 0.  0.  1. ...  6.  0.  0.]\n",
      " [ 0.  0.  2. ... 12.  0.  0.]\n",
      " [ 0.  0. 10. ... 12.  1.  0.]]\n",
      "[0 1 2 ... 8 9 8]\n",
      "1787\n",
      "[0 1 2 ... 5 7 9]\n",
      "1787\n",
      "1797\n",
      "[4 8 8 4 9 0 8 9 8]\n"
     ]
    },
    {
     "data": {
      "text/plain": [
       "<Figure size 640x480 with 1 Axes>"
      ]
     },
     "metadata": {},
     "output_type": "display_data"
    },
    {
     "name": "stdout",
     "output_type": "stream",
     "text": [
      "9\n"
     ]
    }
   ],
   "source": [
    "import matplotlib.pyplot as plt\n",
    "from sklearn import datasets\n",
    "from sklearn import svm\n",
    "\n",
    "digits = datasets.load_digits()\n",
    "print(digits.data) #1797 by 64 행렬. 1797개의 8 by 8 숫자 이미지가 64 by 1 벡터로 일렬로 늘어놓아 저장.\n",
    "print(digits.target) #1797 벡터\n",
    "model1 = svm.SVC(gamma=0.001, C=100)\n",
    "\n",
    "X,y = digits.data[:-10], digits.target[:-10] #뒤에 10개만 버림.\n",
    "print(len(X)) #1797-10=1787\n",
    "print(y) \n",
    "print(len(y)) #1787\n",
    "print(len(digits.target[:])) #1797\n",
    "\n",
    "model1.fit(X,y)\n",
    "model1.score(X, y)\n",
    "\n",
    "predicted= model1.predict(digits.data[1788:1797]) #아까 버린 10개의 데이터를 다시 줏어온다.\n",
    "#이 부분은 테스트데이터를 model1.predict에 넣어서 테스트하는 부분으로, predicted에는 각 이미지에 대한 결과물 label이 각각 튀어나온다.\n",
    "print(predicted)\n",
    "\n",
    "plt.imshow(digits.images[-2], cmap=plt.cm.gray_r, interpolation='nearest')\n",
    "plt.show()\n",
    "print(digits.target[-2])"
   ]
  },
  {
   "cell_type": "code",
   "execution_count": 8,
   "metadata": {},
   "outputs": [
    {
     "data": {
      "text/plain": [
       "array([4, 8, 8, 4, 9, 0, 8, 9, 8])"
      ]
     },
     "execution_count": 8,
     "metadata": {},
     "output_type": "execute_result"
    }
   ],
   "source": [
    "import numpy as np\n",
    "num=0\n",
    "test_label=np.zeros(10000)\n",
    "input_file = open('MNIST/test_label.txt', \"r\")\n",
    "for line in input_file:\n",
    "    line = line.strip()\n",
    "    test_label[num]=line\n",
    "    num=num+1\n",
    "input_file.close()\n",
    "predicted"
   ]
  },
  {
   "cell_type": "code",
   "execution_count": 9,
   "metadata": {},
   "outputs": [],
   "source": [
    "#3\n",
    "#test는 10000개, train은 60000개\n",
    "from matplotlib import pyplot as plt\n",
    "from matplotlib.image import imread\n",
    "import time\n",
    "from PIL import Image\n",
    "import numpy as np\n",
    "\n",
    "#data input. \n",
    "train_data=np.ndarray(shape=(60000, 784))\n",
    "train_label=np.zeros(60000)\n",
    "\n",
    "num=0\n",
    "input_file = open('MNIST/train_label.txt', \"r\")\n",
    "for line in input_file:\n",
    "    line = line.strip()\n",
    "    train_label[num]=line\n",
    "    num=num+1\n",
    "input_file.close()  #label 저장하는 vector train_label\n",
    "\n",
    "for i in range(60000):\n",
    "    img=Image.open('MNIST/train_data/%d.png'%(i+1))\n",
    "    train_data[i,:]=np.array(list(img.getdata(band=0)), int) #data 저장하는 60000 by 784 matrix train_data\n",
    "    \n",
    "    \n",
    "test_data=np.ndarray(shape=(10000, 784))\n",
    "test_label=np.zeros(10000)\n",
    "\n",
    "num=0\n",
    "input_file = open('MNIST/test_label.txt', \"r\")\n",
    "for line in input_file:\n",
    "    line = line.strip()\n",
    "    test_label[num]=line\n",
    "    num=num+1\n",
    "input_file.close()  #label 저장하는 vector test_label\n",
    "\n",
    "for i in range(10000):\n",
    "    img=Image.open('MNIST/test_data/%d.png'%(i+1))\n",
    "    test_data[i,:]=np.array(list(img.getdata(band=0)), int) #data 저장하는 60000 by 784 matrix test_data"
   ]
  },
  {
   "cell_type": "code",
   "execution_count": 62,
   "metadata": {},
   "outputs": [],
   "source": [
    "model1 = svm.SVC(gamma=10, C=100)"
   ]
  },
  {
   "cell_type": "code",
   "execution_count": 63,
   "metadata": {},
   "outputs": [
    {
     "data": {
      "text/plain": [
       "SVC(C=100, cache_size=200, class_weight=None, coef0=0.0,\n",
       "    decision_function_shape='ovr', degree=3, gamma=10, kernel='rbf',\n",
       "    max_iter=-1, probability=False, random_state=None, shrinking=True,\n",
       "    tol=0.001, verbose=False)"
      ]
     },
     "execution_count": 63,
     "metadata": {},
     "output_type": "execute_result"
    }
   ],
   "source": [
    "X,y = train_data[:-58000], train_label[:-58000]\n",
    "model1.fit(X,y)"
   ]
  },
  {
   "cell_type": "code",
   "execution_count": 64,
   "metadata": {},
   "outputs": [
    {
     "data": {
      "text/plain": [
       "1.0"
      ]
     },
     "execution_count": 64,
     "metadata": {},
     "output_type": "execute_result"
    }
   ],
   "source": [
    "model1.score(X,y)"
   ]
  },
  {
   "cell_type": "code",
   "execution_count": 65,
   "metadata": {},
   "outputs": [],
   "source": [
    "predicted= model1.predict(test_data[:100])"
   ]
  },
  {
   "cell_type": "code",
   "execution_count": 66,
   "metadata": {},
   "outputs": [
    {
     "data": {
      "text/plain": [
       "array([ True, False, False, False, False, False, False, False, False,\n",
       "       False, False, False, False, False, False, False, False,  True,\n",
       "       False, False, False, False, False, False, False, False,  True,\n",
       "       False, False, False, False, False, False, False,  True, False,\n",
       "        True, False, False, False, False,  True, False, False, False,\n",
       "       False, False, False, False, False, False, False, False, False,\n",
       "       False, False, False, False, False, False,  True, False, False,\n",
       "       False,  True, False, False, False, False, False,  True, False,\n",
       "       False, False, False,  True, False, False, False,  True,  True,\n",
       "       False, False,  True, False, False,  True, False, False, False,\n",
       "       False, False, False, False, False, False, False,  True, False,\n",
       "       False])"
      ]
     },
     "execution_count": 66,
     "metadata": {},
     "output_type": "execute_result"
    }
   ],
   "source": [
    "predicted==test_label[:100]"
   ]
  },
  {
   "cell_type": "code",
   "execution_count": 68,
   "metadata": {},
   "outputs": [
    {
     "data": {
      "text/plain": [
       "15"
      ]
     },
     "execution_count": 68,
     "metadata": {},
     "output_type": "execute_result"
    }
   ],
   "source": [
    "correctnum=0\n",
    "for i in range(100):\n",
    "    if(predicted[i]==test_label[i]):\n",
    "        correctnum+=1\n",
    "correctnum"
   ]
  },
  {
   "cell_type": "code",
   "execution_count": 69,
   "metadata": {},
   "outputs": [
    {
     "name": "stderr",
     "output_type": "stream",
     "text": [
      "Using TensorFlow backend.\n"
     ]
    }
   ],
   "source": [
    "import keras"
   ]
  },
  {
   "cell_type": "code",
   "execution_count": null,
   "metadata": {},
   "outputs": [],
   "source": []
  }
 ],
 "metadata": {
  "kernelspec": {
   "display_name": "Python 3",
   "language": "python",
   "name": "python3"
  },
  "language_info": {
   "codemirror_mode": {
    "name": "ipython",
    "version": 3
   },
   "file_extension": ".py",
   "mimetype": "text/x-python",
   "name": "python",
   "nbconvert_exporter": "python",
   "pygments_lexer": "ipython3",
   "version": "3.7.5"
  }
 },
 "nbformat": 4,
 "nbformat_minor": 2
}
